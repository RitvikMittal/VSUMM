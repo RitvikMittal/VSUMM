{
 "cells": [
  {
   "cell_type": "code",
   "execution_count": 114,
   "metadata": {},
   "outputs": [],
   "source": [
    "import numpy as np\n",
    "import cv2\n",
    "import matplotlib.pyplot as plt\n",
    "import os\n",
    "%matplotlib inline\n",
    "folder = 0"
   ]
  },
  {
   "cell_type": "code",
   "execution_count": 115,
   "metadata": {},
   "outputs": [],
   "source": [
    "# Video retrieval and frame segmentation, returns the list of frames\n",
    "def retrieve_and_segment(path):\n",
    "    list=[]\n",
    "    frames_full=[]\n",
    "    vid = cv2.VideoCapture(path)\n",
    "    fps = int(np.ceil(vid.get(cv2.CAP_PROP_FPS)))\n",
    "    if not vid.isOpened():\n",
    "        print(\"NO VIDEO\")\n",
    "        return list\n",
    "    i=0\n",
    "    while True:\n",
    "        ret,frame = vid.read()\n",
    "#         display the video (doesn't work in google collab)\n",
    "#         cv2.imshow('ff',frame)       \n",
    "#         if cv2.waitKey(1) & 0xFF == ord('q'):\n",
    "#             break\n",
    "        if not ret:\n",
    "            break\n",
    "        if i%fps == 0:\n",
    "#             HUE range is [0,255]\n",
    "            frames_full.append(frame)\n",
    "            frame=cv2.cvtColor(frame,cv2.COLOR_BGR2HSV_FULL)\n",
    "            list.append(frame[:,:,0])\n",
    "        i+=1\n",
    "    vid.release()\n",
    "    return list,frames_full"
   ]
  },
  {
   "cell_type": "code",
   "execution_count": 116,
   "metadata": {},
   "outputs": [],
   "source": [
    "# Convert the HUE channel to histogram, returns the list of histograms\n",
    "def get_hist(frames,dims):\n",
    "    hists = []\n",
    "    shape = frames[0].shape\n",
    "    l = shape[0]\n",
    "    w = shape[1]\n",
    "    for i,frame in enumerate(frames):\n",
    "        fr=cv2.calcHist([frame],channels=[0],mask=None,histSize=[dims],ranges=[0,256])\n",
    "        fr/=l*w\n",
    "        hists.append(fr)\n",
    "    return np.array(hists)"
   ]
  },
  {
   "cell_type": "code",
   "execution_count": 117,
   "metadata": {},
   "outputs": [],
   "source": [
    "# #of clusters required\n",
    "def num_of_clusters(hists):\n",
    "    k=1\n",
    "    i=1\n",
    "    for i in range(len(hists)):\n",
    "        val = np.linalg.norm(hists[i]-hists[i-1],axis = 0)\n",
    "        if val>0.25:\n",
    "            k+=1\n",
    "    return k"
   ]
  },
  {
   "cell_type": "code",
   "execution_count": 118,
   "metadata": {},
   "outputs": [],
   "source": [
    "# initialize the clusters with item indices, returns initialized clusters\n",
    "def initialize_clusters(l,k):\n",
    "    clusters = np.zeros((l,1))\n",
    "    per_cluster = np.ceil(l/k)\n",
    "    xtra = l%k\n",
    "    added = 0\n",
    "    cur_cluster = 0\n",
    "    for i in range(l):\n",
    "        clusters[i][0] = cur_cluster\n",
    "        added += 1\n",
    "        if added == per_cluster:\n",
    "            added = 0\n",
    "            cur_cluster += 1\n",
    "            if cur_cluster == xtra:\n",
    "                per_cluster -= 1\n",
    "    return clusters"
   ]
  },
  {
   "cell_type": "code",
   "execution_count": 119,
   "metadata": {},
   "outputs": [],
   "source": [
    "# calculates the new cluster centers and then assigns frames to clusters\n",
    "def k_mean_util(items,clusters,old_centers):\n",
    "    k = len(old_centers)  \n",
    "    frequency = np.zeros((k,1))\n",
    "    new_centers = np.zeros((k,items[0].shape[0],1))\n",
    "    # update centers #1\n",
    "    for i in range(len(clusters)):\n",
    "        new_centers[int(clusters[i][0])] += items[i]\n",
    "        frequency[int(clusters[i][0])] += 1\n",
    "    # update centers #2\n",
    "    for i in range(k):\n",
    "        if frequency[i][0] == 0:\n",
    "            new_centers[i] = old_centers[i]\n",
    "        else:\n",
    "            new_centers[i] /= frequency[i][0]\n",
    "    # update clusters\n",
    "    for i in range(len(clusters)):\n",
    "        euclidean = np.linalg.norm(new_centers - items[i] , axis = 1)\n",
    "        assigned_cluster = np.argmin(euclidean , axis = 0)\n",
    "        clusters[i][0] = assigned_cluster\n",
    "    return new_centers"
   ]
  },
  {
   "cell_type": "code",
   "execution_count": 120,
   "metadata": {},
   "outputs": [],
   "source": [
    "# k_mean_clustering, returns cluster_centers,clusters\n",
    "def k_mean_clustering(items,k):\n",
    "    cluster_centers = np.zeros((k,items[0].shape[0],1))\n",
    "    clusters = initialize_clusters(len(items),k)\n",
    "    no_iterations = 20\n",
    "    i = 1\n",
    "    while i < no_iterations:\n",
    "        cluster_centers = k_mean_util(items,clusters,cluster_centers)\n",
    "        i += 1\n",
    "    return (cluster_centers,clusters)"
   ]
  },
  {
   "cell_type": "code",
   "execution_count": 121,
   "metadata": {},
   "outputs": [],
   "source": [
    "# select keyframes from each cluster\n",
    "def select_keyframes(items,cluster_centers,clusters):\n",
    "    k = len(cluster_centers)\n",
    "    keyframes = []\n",
    "    each_cluster = [[] for i in range(k)]\n",
    "    for i in range(len(items)):\n",
    "        each_cluster[int(clusters[i][0])].append(i)\n",
    "    for i in range(k):\n",
    "        if len(each_cluster[i]) > 0:\n",
    "            cluster_hists = [items[j] for j in each_cluster[i]]\n",
    "            euclidean = np.linalg.norm(cluster_hists - cluster_centers[i] , axis = 1)\n",
    "            keyframe_index = np.argmin(euclidean)\n",
    "            keyframes.append(each_cluster[i][keyframe_index])\n",
    "    keyframes.sort()\n",
    "    return keyframes"
   ]
  },
  {
   "cell_type": "code",
   "execution_count": 122,
   "metadata": {},
   "outputs": [],
   "source": [
    "def display_summary(keyframes,frames_full):\n",
    "    i =0 \n",
    "    while True:\n",
    "        frame = frames_full[keyframes[i]]\n",
    "        cv2.imshow('frame',frame)\n",
    "        if cv2.waitKey(1000) & 0xFF == ord('q'):\n",
    "            break;\n",
    "        i = (i+1)%len(keyframes)\n",
    "    cv2.destroyAllWindows()"
   ]
  },
  {
   "cell_type": "code",
   "execution_count": 123,
   "metadata": {},
   "outputs": [],
   "source": [
    "def save_summary(keyframes,frames_full,path):\n",
    "    l,w,c = frames_full[0].shape\n",
    "    global folder\n",
    "    os.mkdir(\"summaries/%d\" % folder)\n",
    "#     writer = cv2.VideoWriter(\"summ.avi\",cv2.VideoWriter_fourcc(*\"XVID\"),1,(640,480))\n",
    "    for i in range(len(keyframes)):\n",
    "        frame = frames_full[keyframes[i]]\n",
    "        cv2.imwrite(\"summaries/{}/frame{}.jpg\".format(folder,keyframes[i]) ,frame)\n",
    "    folder += 1\n",
    "#         writer.write(frame)\n",
    "#     writer.release()"
   ]
  },
  {
   "cell_type": "code",
   "execution_count": 124,
   "metadata": {},
   "outputs": [],
   "source": [
    "def model(file):\n",
    "#     frames,frames_full = retrieve_and_segment(file)\n",
    "    hists = get_hist(frames,16)\n",
    "    k = num_of_clusters(hists)\n",
    "    cluster_centers,clusters = k_mean_clustering(hists,k)\n",
    "    keyframes = select_keyframes(hists,cluster_centers,clusters)\n",
    "#     save_summary(keyframes,frames_full,file)\n",
    "    display_summary(keyframes,frames_full)"
   ]
  },
  {
   "cell_type": "code",
   "execution_count": 125,
   "metadata": {},
   "outputs": [],
   "source": [
    "path=\"Pip - A Short Animated Film.mp4\"\n",
    "frames,frames_full = retrieve_and_segment(path)"
   ]
  },
  {
   "cell_type": "code",
   "execution_count": 128,
   "metadata": {},
   "outputs": [],
   "source": [
    "model(path)"
   ]
  },
  {
   "cell_type": "code",
   "execution_count": null,
   "metadata": {},
   "outputs": [],
   "source": []
  }
 ],
 "metadata": {
  "kernelspec": {
   "display_name": "Python 3",
   "language": "python",
   "name": "python3"
  },
  "language_info": {
   "codemirror_mode": {
    "name": "ipython",
    "version": 3
   },
   "file_extension": ".py",
   "mimetype": "text/x-python",
   "name": "python",
   "nbconvert_exporter": "python",
   "pygments_lexer": "ipython3",
   "version": "3.7.0"
  }
 },
 "nbformat": 4,
 "nbformat_minor": 2
}
